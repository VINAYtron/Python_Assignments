{
 "cells": [
  {
   "cell_type": "code",
   "execution_count": 1,
   "id": "f98ba772-24b9-4ea0-bb2e-7adff9a212ab",
   "metadata": {},
   "outputs": [
    {
     "name": "stdout",
     "output_type": "stream",
     "text": [
      "1\n",
      "2\n",
      "3\n",
      "4\n",
      "5\n"
     ]
    }
   ],
   "source": [
    "# Q1. Print number from 1 to 5 using a while loop.\n",
    "\n",
    "num = 5 \n",
    "i = 1\n",
    "while i <= num:\n",
    "    print(i)\n",
    "    i+=1"
   ]
  },
  {
   "cell_type": "code",
   "execution_count": 4,
   "id": "98378c8b-0dac-4cc3-bea3-3c1a1942c448",
   "metadata": {},
   "outputs": [
    {
     "name": "stdout",
     "output_type": "stream",
     "text": [
      "The sum of the number from 1 to 10 :  55\n"
     ]
    }
   ],
   "source": [
    "# Q2. Calculate the sum of number from 1 to 10 using a while loop.\n",
    "\n",
    "i = 1\n",
    "num = 10\n",
    "total_sum = 0\n",
    "\n",
    "while i <= num:\n",
    "    total_sum += i\n",
    "    i += 1\n",
    "    \n",
    "print(\"The sum of the number from 1 to 10 : \", total_sum)"
   ]
  },
  {
   "cell_type": "code",
   "execution_count": 5,
   "id": "149ffe4e-aafd-4efc-9e89-0b9462e15db1",
   "metadata": {},
   "outputs": [
    {
     "name": "stdout",
     "output_type": "stream",
     "text": [
      "the factorial of 5 number is 120\n"
     ]
    }
   ],
   "source": [
    "# Q3. Calculate the factorial of a number using a for loop.\n",
    "\n",
    "num = 5\n",
    "fact_num = 1\n",
    "\n",
    "for i in range(1, num + 1):\n",
    "    fact_num *= i\n",
    "    \n",
    "print(f\"the factorial of {num} number is {fact_num}\")"
   ]
  },
  {
   "cell_type": "code",
   "execution_count": 8,
   "id": "7da24bc1-5ce6-4950-8f05-103e46e47be7",
   "metadata": {},
   "outputs": [
    {
     "name": "stdout",
     "output_type": "stream",
     "text": [
      "4\n"
     ]
    }
   ],
   "source": [
    "# Q4. Count the number of vowel in a string using a for loop.\n",
    "\n",
    "user_str = \"eat apple\"\n",
    "vowel = \"aeiouAEIOU\"\n",
    "count = 0\n",
    "\n",
    "for char in user_str:\n",
    "    if char in vowel:\n",
    "        count += 1\n",
    "        \n",
    "print(count)"
   ]
  },
  {
   "cell_type": "code",
   "execution_count": 9,
   "id": "a250a90e-c056-4b33-8a08-c3fc10ec7a70",
   "metadata": {},
   "outputs": [
    {
     "name": "stdout",
     "output_type": "stream",
     "text": [
      "* \n",
      "* * \n",
      "* * * \n",
      "* * * * \n",
      "* * * * * \n"
     ]
    }
   ],
   "source": [
    "# Q5 Print a pattern using nested loop.\n",
    "\n",
    "row = 5\n",
    "for i in range(1,row + 1):\n",
    "    \n",
    "    for j in range(1, i + 1):\n",
    "        print(\"*\", end = \" \")\n",
    "        \n",
    "    print( )"
   ]
  },
  {
   "cell_type": "code",
   "execution_count": 19,
   "id": "f88db64d-4a16-47ef-b347-81694abb79fa",
   "metadata": {},
   "outputs": [
    {
     "name": "stdout",
     "output_type": "stream",
     "text": [
      "1 × 1 = 1\t 1 × 2 = 2\t 1 × 3 = 3\t 1 × 4 = 4\t 1 × 5 = 5\t 1 × 6 = 6\t 1 × 7 = 7\t 1 × 8 = 8\t 1 × 9 = 9\t 1 × 10 = 10\t \n",
      "2 × 1 = 2\t 2 × 2 = 4\t 2 × 3 = 6\t 2 × 4 = 8\t 2 × 5 = 10\t 2 × 6 = 12\t 2 × 7 = 14\t 2 × 8 = 16\t 2 × 9 = 18\t 2 × 10 = 20\t \n",
      "3 × 1 = 3\t 3 × 2 = 6\t 3 × 3 = 9\t 3 × 4 = 12\t 3 × 5 = 15\t 3 × 6 = 18\t 3 × 7 = 21\t 3 × 8 = 24\t 3 × 9 = 27\t 3 × 10 = 30\t \n",
      "4 × 1 = 4\t 4 × 2 = 8\t 4 × 3 = 12\t 4 × 4 = 16\t 4 × 5 = 20\t 4 × 6 = 24\t 4 × 7 = 28\t 4 × 8 = 32\t 4 × 9 = 36\t 4 × 10 = 40\t \n",
      "5 × 1 = 5\t 5 × 2 = 10\t 5 × 3 = 15\t 5 × 4 = 20\t 5 × 5 = 25\t 5 × 6 = 30\t 5 × 7 = 35\t 5 × 8 = 40\t 5 × 9 = 45\t 5 × 10 = 50\t \n",
      "6 × 1 = 6\t 6 × 2 = 12\t 6 × 3 = 18\t 6 × 4 = 24\t 6 × 5 = 30\t 6 × 6 = 36\t 6 × 7 = 42\t 6 × 8 = 48\t 6 × 9 = 54\t 6 × 10 = 60\t \n",
      "7 × 1 = 7\t 7 × 2 = 14\t 7 × 3 = 21\t 7 × 4 = 28\t 7 × 5 = 35\t 7 × 6 = 42\t 7 × 7 = 49\t 7 × 8 = 56\t 7 × 9 = 63\t 7 × 10 = 70\t \n",
      "8 × 1 = 8\t 8 × 2 = 16\t 8 × 3 = 24\t 8 × 4 = 32\t 8 × 5 = 40\t 8 × 6 = 48\t 8 × 7 = 56\t 8 × 8 = 64\t 8 × 9 = 72\t 8 × 10 = 80\t \n",
      "9 × 1 = 9\t 9 × 2 = 18\t 9 × 3 = 27\t 9 × 4 = 36\t 9 × 5 = 45\t 9 × 6 = 54\t 9 × 7 = 63\t 9 × 8 = 72\t 9 × 9 = 81\t 9 × 10 = 90\t \n",
      "10 × 1 = 10\t 10 × 2 = 20\t 10 × 3 = 30\t 10 × 4 = 40\t 10 × 5 = 50\t 10 × 6 = 60\t 10 × 7 = 70\t 10 × 8 = 80\t 10 × 9 = 90\t 10 × 10 = 100\t \n"
     ]
    }
   ],
   "source": [
    "# Q6. Generate a mltiplication table using nested loop.\n",
    "\n",
    "\n",
    "table_size = 10\n",
    "\n",
    "for i in range(1, table_size + 1):\n",
    "    \n",
    "    for j in range(1, table_size + 1):\n",
    "        product = i * j\n",
    "        print(f\"{i} × {j} = {product}\\t\", end=\" \")\n",
    "\n",
    "    print()"
   ]
  }
 ],
 "metadata": {
  "kernelspec": {
   "display_name": "Python 3 (ipykernel)",
   "language": "python",
   "name": "python3"
  },
  "language_info": {
   "codemirror_mode": {
    "name": "ipython",
    "version": 3
   },
   "file_extension": ".py",
   "mimetype": "text/x-python",
   "name": "python",
   "nbconvert_exporter": "python",
   "pygments_lexer": "ipython3",
   "version": "3.10.8"
  }
 },
 "nbformat": 4,
 "nbformat_minor": 5
}
