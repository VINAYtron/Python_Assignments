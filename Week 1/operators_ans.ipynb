{
 "cells": [
  {
   "cell_type": "code",
   "execution_count": 2,
   "id": "a30bba8a-9055-426d-b602-133a6cb8c527",
   "metadata": {},
   "outputs": [
    {
     "name": "stdout",
     "output_type": "stream",
     "text": [
      "sum of two number is =  15\n",
      "difference of two number is =  5\n",
      "product of two number is =  50\n",
      "quotient of two number is =  0\n"
     ]
    }
   ],
   "source": [
    "# Q1 . Calculate the sum, difference, product, and quotient of two numbers.\n",
    "\n",
    "num1 = 10\n",
    "num2 = 5\n",
    "\n",
    "sum = num1 + num2\n",
    "print(\"sum of two number is = \",sum)\n",
    "\n",
    "difference  = num1 - num2\n",
    "print(\"difference of two number is = \",difference)\n",
    "\n",
    "product = num1 * num2\n",
    "print(\"product of two number is = \",product)\n",
    "\n",
    "quotient  = num1 % num2\n",
    "print(\"quotient of two number is = \",quotient)"
   ]
  },
  {
   "cell_type": "code",
   "execution_count": 3,
   "id": "97d7f041-cb53-4f51-b549-4f138811fd71",
   "metadata": {},
   "outputs": [
    {
     "name": "stdout",
     "output_type": "stream",
     "text": [
      "5\n",
      "8\n",
      "8\n",
      "6\n",
      "16\n",
      "1.5\n"
     ]
    }
   ],
   "source": [
    "# Q2. Perform various assignment operations on a variable.\n",
    "\n",
    "x = 5 # Assign 5 to x\n",
    "print(x)\n",
    "y = x + 3 # Assign x + 3 to y\n",
    "print(y)\n",
    "x += 3 # Add 3 to x and assign the result to x\n",
    "print(x)\n",
    "y -= 2 # Subtract 2 from y and assign the result to y\n",
    "print(y)\n",
    "x *= 2 # Multiply x by 2 and assign the result to x\n",
    "print(x)\n",
    "y /= 4 # Divide y by 4 and assign the result to y\n",
    "print(y)"
   ]
  },
  {
   "cell_type": "code",
   "execution_count": 4,
   "id": "5e8c2137-864d-4e67-8cc5-381b0f0327bd",
   "metadata": {},
   "outputs": [
    {
     "name": "stdout",
     "output_type": "stream",
     "text": [
      "num1 is greater than num2: True\n",
      "num1 is less than num2: False\n",
      "num1 is greater than and equal to num2: True\n",
      "num1 is less than and equal to num2: False\n",
      "num1 is equal to num2: False\n",
      "num1 is does not equal to num2: True\n"
     ]
    }
   ],
   "source": [
    "# Q3. Compare two numbers and print the results.\n",
    "\n",
    "num1 = 10\n",
    "num2 = 5\n",
    "\n",
    "result1 = num1 > num2\n",
    "result2 = num1 < num2\n",
    "result3 = num1 >= num2\n",
    "result4 = num1 <= num2\n",
    "result5 = num1 == num2\n",
    "result6 = num1 != num2\n",
    "\n",
    "print(\"num1 is greater than num2:\", result1)\n",
    "print(\"num1 is less than num2:\", result2)\n",
    "print(\"num1 is greater than and equal to num2:\", result3)\n",
    "print(\"num1 is less than and equal to num2:\", result4)\n",
    "print(\"num1 is equal to num2:\", result5)\n",
    "print(\"num1 is does not equal to num2:\", result6)"
   ]
  },
  {
   "cell_type": "code",
   "execution_count": 5,
   "id": "eb2ec0cc-4939-4c98-ae00-0cd283beeb51",
   "metadata": {},
   "outputs": [
    {
     "name": "stdout",
     "output_type": "stream",
     "text": [
      "first AND logical operator =  True\n",
      "second OR logical operator =  True\n",
      "third NOT logical operator =  False\n"
     ]
    }
   ],
   "source": [
    "# Q4. Check conditions using logical operators.\n",
    "\n",
    "num1 = 10\n",
    "num2 = 20\n",
    "num3 = 30\n",
    "num4 = True\n",
    "\n",
    "result1  = (num1 < num2) and (num2 < num3)\n",
    "result2  = (num1 < num2) or (num2 >num3)\n",
    "result3  = not(num4)\n",
    "\n",
    "print(\"first AND logical operator = \", result1) #The and operator returns True if both operands are True, otherwise, it returns False.\n",
    "print(\"second OR logical operator = \", result2) #The or operator returns True if either of the operands is True, otherwise, it returns False.\n",
    "print(\"third NOT logical operator = \", result3) #If the Boolean value is True, it returns False, and vice versa."
   ]
  },
  {
   "cell_type": "code",
   "execution_count": 6,
   "id": "172adbdf-06aa-4c32-9497-562465bf38d8",
   "metadata": {},
   "outputs": [
    {
     "name": "stdout",
     "output_type": "stream",
     "text": [
      "False\n",
      "True\n",
      "False\n"
     ]
    }
   ],
   "source": [
    "# Q5. Check the identity of variables.\n",
    "\n",
    "obj1 = [1,2,3]\n",
    "obj2 = [1,2,3]\n",
    "obj3 = obj1\n",
    "\n",
    "result1 = obj1 is obj2 #is operator returns True if both variables point to the same memory location, indicating that they are the same object.\n",
    "result2 = obj3 is obj1 # True because same object\n",
    "result3 = obj3 is not obj1 #is not operator returns True if both variables do not point to the same memory location, indicating that they are different objects.\n",
    "\n",
    "print(result1)\n",
    "print(result2)\n",
    "print(result3)"
   ]
  },
  {
   "cell_type": "code",
   "execution_count": 7,
   "id": "cc7211c3-e808-4786-8919-cf164922cf91",
   "metadata": {},
   "outputs": [
    {
     "name": "stdout",
     "output_type": "stream",
     "text": [
      "a & b = 0\n",
      "a | b = 14\n",
      "~a = -11\n",
      "a ^ b = 14\n"
     ]
    }
   ],
   "source": [
    "# Q6 Perform bitwise operations on any two integers.\n",
    "\n",
    "\"\"\"\n",
    "Bitwise AND (&):\n",
    "The & operator performs a bitwise AND operation between the corresponding bits of two integers.\n",
    "It returns 1 if both bits are 1, otherwise, it returns 0\n",
    "\"\"\"\n",
    "a = 10  \n",
    "b = 4   \n",
    "\n",
    "result = a & b\n",
    "print(\"a & b =\", result)\n",
    "\n",
    "\"\"\"\n",
    "Bitwise OR (|):\n",
    "The | operator performs a bitwise OR operation between the corresponding bits of two integers.\n",
    "It returns 1 if either of the bits is 1, otherwise, it returns 0\n",
    "\"\"\"\n",
    "a = 10  \n",
    "b = 4   \n",
    "\n",
    "result = a | b\n",
    "print(\"a | b =\", result)\n",
    "\n",
    "\"\"\"\n",
    "Bitwise NOT (~):\n",
    "The ~ operator inverts all the bits of an integer\n",
    "\"\"\"\n",
    "a = 10 \n",
    "\n",
    "result = ~a\n",
    "print(\"~a =\", result)\n",
    "\n",
    "\"\"\"\n",
    "Bitwise XOR (^):\n",
    "The ^ operator performs a bitwise XOR operation between the corresponding bits of two integers.\n",
    "It returns 1 if one of the bits is 1 and the other is 0, otherwise, it returns 0\n",
    "\"\"\"\n",
    "a = 10  \n",
    "b = 4   \n",
    "\n",
    "result = a ^ b\n",
    "print(\"a ^ b =\", result)"
   ]
  },
  {
   "cell_type": "code",
   "execution_count": 8,
   "id": "907a32bf-309c-443c-8fc6-dc07c70152e6",
   "metadata": {},
   "outputs": [
    {
     "name": "stdout",
     "output_type": "stream",
     "text": [
      "Unary plus result: 5\n",
      "Negated value: -10\n"
     ]
    }
   ],
   "source": [
    "# Q7. Use unary operators to change the sign of a number.\n",
    "\n",
    "num = 5\n",
    "result = +num # unary plus(+) doesn’t change the sign of the operand. It simply returns the same value.\n",
    "print(\"Unary plus result:\", result) \n",
    "\n",
    "num = 10\n",
    "negated_num = -num # The unary minus operator (-) negates the value of the operand. \n",
    "print(\"Negated value:\", negated_num)  # Output: -10"
   ]
  },
  {
   "cell_type": "code",
   "execution_count": 9,
   "id": "327d2b00-76d2-4c1a-b03c-7196335e7b60",
   "metadata": {},
   "outputs": [
    {
     "name": "stdout",
     "output_type": "stream",
     "text": [
      "Minimum value: 10\n"
     ]
    }
   ],
   "source": [
    "# Q8.  Use the ternary operator to assign values based on conditions.\n",
    "\n",
    "num1, num2 = 10, 20\n",
    "min_value = num1 if num1 < num2 else num2\n",
    "print(\"Minimum value:\", min_value)"
   ]
  }
 ],
 "metadata": {
  "kernelspec": {
   "display_name": "Python 3 (ipykernel)",
   "language": "python",
   "name": "python3"
  },
  "language_info": {
   "codemirror_mode": {
    "name": "ipython",
    "version": 3
   },
   "file_extension": ".py",
   "mimetype": "text/x-python",
   "name": "python",
   "nbconvert_exporter": "python",
   "pygments_lexer": "ipython3",
   "version": "3.10.8"
  }
 },
 "nbformat": 4,
 "nbformat_minor": 5
}
