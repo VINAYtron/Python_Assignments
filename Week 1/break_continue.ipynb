{
 "cells": [
  {
   "cell_type": "code",
   "execution_count": 1,
   "id": "d817b756-1cdb-4598-b34c-8ed1f214f780",
   "metadata": {},
   "outputs": [
    {
     "name": "stdout",
     "output_type": "stream",
     "text": [
      "numbers = :  1\n",
      "numbers = :  2\n",
      "numbers = :  3\n",
      "numbers = :  4\n",
      "numbers = :  5\n"
     ]
    }
   ],
   "source": [
    "# Q1. Write a program to print numbers from 1 to 10, but stop if the number is 5\n",
    "\n",
    "for i in range(1, 10+1):\n",
    "    print(\"numbers = : \",i)\n",
    "    if i==5:\n",
    "        break"
   ]
  },
  {
   "cell_type": "code",
   "execution_count": 2,
   "id": "4d4e037a-e36c-43d5-bb77-23f6b0377f97",
   "metadata": {},
   "outputs": [
    {
     "name": "stdout",
     "output_type": "stream",
     "text": [
      "12 4 5 52 1 89 "
     ]
    }
   ],
   "source": [
    "# Q2. Write a program to iterate through a list and stop when encountering a specific element\n",
    "\n",
    "user_list = [12,4,5,52,1,89,13,1344,1,4,1,34,45]\n",
    "target = 89\n",
    "\n",
    "for element in user_list:\n",
    "    print( element , end=\" \")\n",
    "    if element == target:\n",
    "        break"
   ]
  },
  {
   "cell_type": "code",
   "execution_count": 3,
   "id": "0ac09e3a-d683-4bef-8151-61bab0c20304",
   "metadata": {},
   "outputs": [
    {
     "name": "stdout",
     "output_type": "stream",
     "text": [
      "1 3 5 7 9 "
     ]
    }
   ],
   "source": [
    "# Q3. Write a program to skip printing even numbers from 1 to 10.\n",
    "\n",
    "for num in range(1, 10+1):\n",
    "    if num%2==0:\n",
    "        continue\n",
    "    print(num , end = \" \")"
   ]
  },
  {
   "cell_type": "code",
   "execution_count": 4,
   "id": "7e6353fb-2d0c-466e-a02b-f1995d64b19b",
   "metadata": {},
   "outputs": [
    {
     "name": "stdout",
     "output_type": "stream",
     "text": [
      "0 1 2 3 4 5 6 7 8 9 "
     ]
    }
   ],
   "source": [
    "# Q4. Write a program to print numbers from 0 to 9 using range().\n",
    "\n",
    "for num in range(0, 9+1):\n",
    "    print(num, end=\" \")"
   ]
  },
  {
   "cell_type": "code",
   "execution_count": 5,
   "id": "a7c41e95-0356-4af9-a756-c0d31769a2b1",
   "metadata": {},
   "outputs": [
    {
     "name": "stdout",
     "output_type": "stream",
     "text": [
      "1 * 1 = 1  \n",
      "2 * 1 = 2  \n",
      "3 * 1 = 3  \n",
      "4 * 1 = 4  \n",
      "5 * 1 = 5  \n"
     ]
    }
   ],
   "source": [
    "# Q5. Write a program to print multiplication tables from 1 to 5,\n",
    "# but stop after the first table is printed for each number.\n",
    " \n",
    "for row in range(1, 5+1):\n",
    "    \n",
    "    for colum in range(1, 3):\n",
    "        result = row * colum\n",
    "        print(f\"{row} * {colum} = {result} \", end = \" \")\n",
    "        break\n",
    "        \n",
    "    print()"
   ]
  },
  {
   "cell_type": "code",
   "execution_count": 6,
   "id": "2e9362ed-00fb-4b56-90d8-f6ddf7724610",
   "metadata": {},
   "outputs": [
    {
     "name": "stdout",
     "output_type": "stream",
     "text": [
      "1 3 5 7 9 "
     ]
    }
   ],
   "source": [
    "# Q6. Write a program to skip printing even numbers using a while loop\n",
    "\n",
    "num = 10\n",
    "i = 0\n",
    "\n",
    "while i < num:\n",
    "    i+=1\n",
    "    if i%2==0:\n",
    "        continue\n",
    "    print(i, end=\" \")"
   ]
  }
 ],
 "metadata": {
  "kernelspec": {
   "display_name": "Python 3 (ipykernel)",
   "language": "python",
   "name": "python3"
  },
  "language_info": {
   "codemirror_mode": {
    "name": "ipython",
    "version": 3
   },
   "file_extension": ".py",
   "mimetype": "text/x-python",
   "name": "python",
   "nbconvert_exporter": "python",
   "pygments_lexer": "ipython3",
   "version": "3.10.8"
  }
 },
 "nbformat": 4,
 "nbformat_minor": 5
}
