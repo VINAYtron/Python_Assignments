{
 "cells": [
  {
   "cell_type": "code",
   "execution_count": 7,
   "id": "9b62893f-a7cf-4fcd-935d-b6df63866c54",
   "metadata": {},
   "outputs": [
    {
     "name": "stdout",
     "output_type": "stream",
     "text": [
      "10.0\n"
     ]
    },
    {
     "data": {
      "text/plain": [
       "float"
      ]
     },
     "execution_count": 7,
     "metadata": {},
     "output_type": "execute_result"
    }
   ],
   "source": [
    "# Q1. Convert a integer to a float.\n",
    "\n",
    "int_num = 10\n",
    "float_num = float(int_num) #using float() inbuilt fun to change data type of int \n",
    "print(float_num)\n",
    "type(float_num)"
   ]
  },
  {
   "cell_type": "code",
   "execution_count": 8,
   "id": "dcbd6f8b-a1d8-456f-9ac6-9bf21b65e483",
   "metadata": {},
   "outputs": [
    {
     "name": "stdout",
     "output_type": "stream",
     "text": [
      "5\n"
     ]
    },
    {
     "data": {
      "text/plain": [
       "int"
      ]
     },
     "execution_count": 8,
     "metadata": {},
     "output_type": "execute_result"
    }
   ],
   "source": [
    "# Q2. Convert a float to a integer.\n",
    "\n",
    "float_num = 5.5\n",
    "int_num = int(float_num) #using int() inbuilt fun to change data type of float\n",
    "print(int_num)\n",
    "type(int_num)"
   ]
  },
  {
   "cell_type": "code",
   "execution_count": 5,
   "id": "b3563f13-c273-49be-ba6d-4a3f5ddc3933",
   "metadata": {},
   "outputs": [
    {
     "name": "stdout",
     "output_type": "stream",
     "text": [
      "100\n"
     ]
    },
    {
     "data": {
      "text/plain": [
       "str"
      ]
     },
     "execution_count": 5,
     "metadata": {},
     "output_type": "execute_result"
    }
   ],
   "source": [
    "# Q3. Covert a integer to a strig.\n",
    "\n",
    "int_num = 100\n",
    "string = str(int_num) #using str() inbuilt fun to change data type of int\n",
    "print(string)\n",
    "type(string)"
   ]
  },
  {
   "cell_type": "code",
   "execution_count": 9,
   "id": "94eb1311-a83d-4b9a-aa55-3098b4d13680",
   "metadata": {},
   "outputs": [
    {
     "name": "stdout",
     "output_type": "stream",
     "text": [
      "(1, 'tron', (4+5j), True)\n"
     ]
    },
    {
     "data": {
      "text/plain": [
       "tuple"
      ]
     },
     "execution_count": 9,
     "metadata": {},
     "output_type": "execute_result"
    }
   ],
   "source": [
    "# Q4. Convert a list to a tuple.\n",
    "\n",
    "list_1 = [1, \"tron\", 4+5j, True]\n",
    "tuple_1 = tuple(list_1) #using tuple() inbuilt fun to change data type of list\n",
    "print(tuple_1)\n",
    "type(tuple_1)"
   ]
  },
  {
   "cell_type": "code",
   "execution_count": 10,
   "id": "110773fb-6a6b-4b66-a712-ac371b61e1f6",
   "metadata": {},
   "outputs": [
    {
     "name": "stdout",
     "output_type": "stream",
     "text": [
      "[1, 'tron', (4+5j), True]\n"
     ]
    },
    {
     "data": {
      "text/plain": [
       "list"
      ]
     },
     "execution_count": 10,
     "metadata": {},
     "output_type": "execute_result"
    }
   ],
   "source": [
    "# Q5. Convert a tuple to a list.\n",
    "\n",
    "tuple_1 = (1, \"tron\", 4+5j, True)\n",
    "list_1 = list(tuple_1) #using list() inbuilt fun to change data type of tuple\n",
    "print(list_1)\n",
    "type(list_1)"
   ]
  },
  {
   "cell_type": "code",
   "execution_count": 12,
   "id": "bb4b4836-9cef-4e80-aecb-f9cef0324dd5",
   "metadata": {},
   "outputs": [
    {
     "name": "stdout",
     "output_type": "stream",
     "text": [
      "0b1010\n"
     ]
    }
   ],
   "source": [
    "# Q6. Convert a decimal number to binary number.\n",
    "\n",
    "dec_num = 10\n",
    "bin_num = bin(dec_num) #using bin() inbuilt fun to change data type of decimal\n",
    "print(bin_num)"
   ]
  },
  {
   "cell_type": "code",
   "execution_count": 13,
   "id": "bb94ef73-1f3e-4cee-92d6-4853b34924b6",
   "metadata": {},
   "outputs": [
    {
     "name": "stdout",
     "output_type": "stream",
     "text": [
      "True\n"
     ]
    },
    {
     "data": {
      "text/plain": [
       "bool"
      ]
     },
     "execution_count": 13,
     "metadata": {},
     "output_type": "execute_result"
    }
   ],
   "source": [
    "# Q7. Convert a non-zero number to boolean.\n",
    "\n",
    "num = 1\n",
    "bool_num = bool(num) #using bool() inbuilt fun to change data type of num\n",
    "print(bool_num)\n",
    "type(bool_num)"
   ]
  }
 ],
 "metadata": {
  "kernelspec": {
   "display_name": "Python 3 (ipykernel)",
   "language": "python",
   "name": "python3"
  },
  "language_info": {
   "codemirror_mode": {
    "name": "ipython",
    "version": 3
   },
   "file_extension": ".py",
   "mimetype": "text/x-python",
   "name": "python",
   "nbconvert_exporter": "python",
   "pygments_lexer": "ipython3",
   "version": "3.10.8"
  }
 },
 "nbformat": 4,
 "nbformat_minor": 5
}
